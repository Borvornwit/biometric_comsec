{
 "cells": [
  {
   "cell_type": "markdown",
   "metadata": {},
   "source": [
    "## Import Lib\n",
    "note: pyWinhook only available for window"
   ]
  },
  {
   "cell_type": "code",
   "execution_count": 1,
   "metadata": {},
   "outputs": [],
   "source": [
    "import pyWinhook\n",
    "import pythoncom\n",
    "import os\n",
    "import matplotlib.pyplot as plt\n",
    "import json\n",
    "import numpy as np\n",
    "import sys\n",
    "import pandas as pd\n",
    "from IPython.display import clear_output\n",
    "import csv\n",
    "from scipy.spatial.distance import cityblock\n",
    "from sklearn.metrics import roc_curve\n",
    "from sklearn.cluster import KMeans"
   ]
  },
  {
   "cell_type": "markdown",
   "metadata": {},
   "source": [
    "### init variable and function"
   ]
  },
  {
   "cell_type": "code",
   "execution_count": 2,
   "metadata": {},
   "outputs": [],
   "source": [
    "global userName\n",
    "userFilePath = \"Collecting_keyStorke.csv\""
   ]
  },
  {
   "cell_type": "code",
   "execution_count": 3,
   "metadata": {},
   "outputs": [],
   "source": [
    "class KeyLogger:\n",
    "    def __init__(self,register = True):\n",
    "        self.enterPressed = False\n",
    "        self.eventList = []\n",
    "        self.isCaps = False\n",
    "        self.register = register\n",
    "        #self.message = \"\"\n",
    "        \n",
    "    def keyDownEvent(self, event):\n",
    "        if event.KeyID == 20 and self.isCaps == False:\n",
    "            self.isCaps = True\n",
    "        elif event.KeyID == 20 and self.isCaps == True:\n",
    "            self.isCaps = False     \n",
    "        if event.KeyID>= 48 and event.KeyID<=57:\n",
    "            event.Ascii = event.KeyID\n",
    "        if self.isCaps == True and event.Ascii>=97 and event.Ascii<=122:\n",
    "            event.Ascii = event.KeyID\n",
    "        self.storeEvent(\"Down\", event) \n",
    "        return True\n",
    "    \n",
    "    def mainLoop(self):\n",
    "        while not self.enterPressed:\n",
    "            pythoncom.PumpWaitingMessages()\n",
    "\n",
    "    def storeEvent(self, activity, event):\n",
    "        keystrokeTime = int(event.Time)\n",
    "        self.eventList.append ((userName,event.Ascii,activity, int(keystrokeTime)))\n",
    "\n",
    "        # Chosen to use Escape key (ESC) due to input using a similar method\n",
    "        # Enter Key - KeyCode: 13 Ascii: 13 ScanCode: 28 - ESC = 27 @ Ascii\n",
    "        if event.Ascii == 27:\n",
    "            self.enterPressed = True\n",
    "            if self.register:\n",
    "                userRecordData(self.eventList)\n",
    "            \n",
    "def userRecordData(eventList):\n",
    "    print(\"\\noutput\")\n",
    "    print(eventList)\n",
    "    with open(userFilePath,'a',newline='\\n') as f:\n",
    "        writer = csv.writer(f)\n",
    "        #writer.writerow(['user','key','keyEvent','Time'])\n",
    "        writer.writerows(eventList)\n",
    "    f.close()   \n",
    "    \n",
    "def getUserName():\n",
    "    global userName\n",
    "    userName = input(\"Enter your Name: \")\n",
    "\n",
    "def getKeyStroke(register = True):\n",
    "    \n",
    "    keyLogger = KeyLogger(register = register)\n",
    "    hookManager = pyWinhook.HookManager()\n",
    "    hookManager.KeyDown = keyLogger.keyDownEvent\n",
    "    hookManager.HookKeyboard()\n",
    "\n",
    "    keyLogger.mainLoop()\n",
    "    # Unhooks the keyboard, no more data recorded, returns to menu\n",
    "    hookManager.UnhookKeyboard()\n",
    "    \n",
    "    return keyLogger\n",
    "    \n"
   ]
  },
  {
   "cell_type": "markdown",
   "metadata": {},
   "source": [
    "## Add new user"
   ]
  },
  {
   "cell_type": "code",
   "execution_count": 13,
   "metadata": {},
   "outputs": [
    {
     "name": "stdout",
     "output_type": "stream",
     "text": [
      "Enter your Name: tester2\n",
      "Enter your text: \n",
      "type the following word: \n",
      "fascinated interesting madly miniature flesh rain\n",
      "\n",
      "output\n",
      "[('tester2', 102, 'Down', 622682468), ('tester2', 97, 'Down', 622684375), ('tester2', 115, 'Down', 622685828), ('tester2', 99, 'Down', 622688078), ('tester2', 105, 'Down', 622689937), ('tester2', 110, 'Down', 622691375), ('tester2', 97, 'Down', 622693265), ('tester2', 116, 'Down', 622694625), ('tester2', 101, 'Down', 622696218), ('tester2', 100, 'Down', 622697562), ('tester2', 32, 'Down', 622699234), ('tester2', 105, 'Down', 622700546), ('tester2', 110, 'Down', 622702500), ('tester2', 116, 'Down', 622703796), ('tester2', 101, 'Down', 622705437), ('tester2', 114, 'Down', 622706703), ('tester2', 101, 'Down', 622707953), ('tester2', 115, 'Down', 622709171), ('tester2', 116, 'Down', 622710671), ('tester2', 105, 'Down', 622712140), ('tester2', 110, 'Down', 622713218), ('tester2', 103, 'Down', 622714484), ('tester2', 32, 'Down', 622715734), ('tester2', 109, 'Down', 622716640), ('tester2', 97, 'Down', 622718156), ('tester2', 100, 'Down', 622719531), ('tester2', 108, 'Down', 622720828), ('tester2', 121, 'Down', 622721859), ('tester2', 32, 'Down', 622722984), ('tester2', 109, 'Down', 622723937), ('tester2', 105, 'Down', 622725156), ('tester2', 110, 'Down', 622726359), ('tester2', 105, 'Down', 622727546), ('tester2', 97, 'Down', 622728828), ('tester2', 116, 'Down', 622729953), ('tester2', 117, 'Down', 622732406), ('tester2', 114, 'Down', 622733640), ('tester2', 101, 'Down', 622734671), ('tester2', 32, 'Down', 622735640), ('tester2', 102, 'Down', 622737000), ('tester2', 108, 'Down', 622738203), ('tester2', 101, 'Down', 622739406), ('tester2', 115, 'Down', 622740656), ('tester2', 104, 'Down', 622741796), ('tester2', 32, 'Down', 622742796), ('tester2', 114, 'Down', 622743859), ('tester2', 97, 'Down', 622744968), ('tester2', 105, 'Down', 622746078), ('tester2', 110, 'Down', 622747234), ('tester2', 27, 'Down', 622748375)]\n"
     ]
    }
   ],
   "source": [
    "getUserName()\n",
    "print(\"Enter your text: \")\n",
    "print(\"type the following word: \")\n",
    "print(\"fascinated interesting madly miniature flesh rain\")\n",
    "getKeyStroke()"
   ]
  },
  {
   "cell_type": "markdown",
   "metadata": {},
   "source": [
    "getUserName()\n",
    "print(\"Enter your text: \")\n",
    "getKeyStroke()"
   ]
  },
  {
   "cell_type": "markdown",
   "metadata": {},
   "source": [
    "### Process typing stroke"
   ]
  },
  {
   "cell_type": "code",
   "execution_count": 4,
   "metadata": {},
   "outputs": [
    {
     "name": "stdout",
     "output_type": "stream",
     "text": [
      "   subject  key   time\n",
      "0   tester  f a  0.110\n",
      "1   tester  a s  0.094\n",
      "2   tester  s c  0.640\n",
      "3   tester  c i  0.110\n",
      "4   tester  i n  0.265\n",
      "5   tester  n a  0.094\n",
      "6   tester  a t  0.219\n",
      "7   tester  t e  0.109\n",
      "8   tester  e d  0.172\n",
      "9   tester  d    0.391\n",
      "10  tester    i  0.453\n",
      "11  tester  i n  0.172\n",
      "12  tester  n t  0.140\n",
      "13  tester  t e  0.125\n",
      "14  tester  e r  0.078\n",
      "15  tester  r e  2.188\n",
      "16  tester  e s  0.094\n",
      "17  tester  s t  1.125\n",
      "18  tester  t i  0.281\n",
      "19  tester  i n  0.156\n",
      "20  tester  n g  0.094\n",
      "21  tester  g    0.515\n",
      "22  tester    m  0.407\n",
      "23  tester  m a  0.093\n",
      "24  tester  a d  0.110\n",
      "25  tester  d l  0.109\n",
      "26  tester  l y  0.250\n",
      "27  tester  y    0.625\n",
      "28  tester    m  0.469\n",
      "29  tester  m i  0.172\n",
      "30  tester  i n  0.156\n",
      "31  tester  n i  0.172\n",
      "32  tester  i a  0.797\n",
      "33  tester  a t  0.312\n",
      "34  tester  t u  0.125\n",
      "35  tester  u r  0.094\n",
      "36  tester  r e  0.094\n",
      "37  tester  e    0.234\n",
      "38  tester    f  0.735\n",
      "39  tester  f l  0.093\n",
      "40  tester  l e  0.094\n",
      "41  tester  e s  0.094\n",
      "42  tester  s h  0.156\n",
      "43  tester  h    0.125\n",
      "44  tester    r  0.656\n",
      "45  tester  r a  0.094\n",
      "46  tester  a i  0.094\n",
      "47  tester  i n  0.187\n",
      "48  tester  n \u001b  0.594\n"
     ]
    }
   ],
   "source": [
    "data = pd.read_csv(\"Collecting_keyStorke.csv\")\n",
    "userList = data.user.unique()\n",
    "keyList = data.key.unique()\n",
    "df = pd.DataFrame(columns=['subject','key','time'])\n",
    "for i in range(0,len(userList)):\n",
    "    queryData = data.query(\"user=='\" +userList[i]+\"'\")\n",
    "    queryLen = len(queryData)\n",
    "    finalData = {}\n",
    "    for j in range(0,queryLen-1):\n",
    "        finalData['subject'] = userList[i] # get user\n",
    "        finalData['key'] = chr(queryData.iloc[j].key) + \" \" + chr(queryData.iloc[j+1].key)\n",
    "        finalData['time'] = (int(queryData.iloc[j+1].Time) - int(queryData.iloc[j].Time))/1000\n",
    "        df = df.append(finalData,ignore_index=True )\n",
    "                \n",
    "f = open(\"KeyStrokeDistance.csv\", 'w',newline='\\n')\n",
    "writer = csv.writer(f)\n",
    "writer.writerow(['subject','key','time'])\n",
    "for row in df.iterrows():\n",
    "    #print(row[1])\n",
    "    writer.writerow(row[1])\n",
    "    \n",
    "f.close()\n",
    "print(df[df.subject == 'tester'])"
   ]
  },
  {
   "cell_type": "code",
   "execution_count": 5,
   "metadata": {},
   "outputs": [
    {
     "data": {
      "text/html": [
       "<div>\n",
       "<style scoped>\n",
       "    .dataframe tbody tr th:only-of-type {\n",
       "        vertical-align: middle;\n",
       "    }\n",
       "\n",
       "    .dataframe tbody tr th {\n",
       "        vertical-align: top;\n",
       "    }\n",
       "\n",
       "    .dataframe thead th {\n",
       "        text-align: right;\n",
       "    }\n",
       "</style>\n",
       "<table border=\"1\" class=\"dataframe\">\n",
       "  <thead>\n",
       "    <tr style=\"text-align: right;\">\n",
       "      <th></th>\n",
       "      <th>subject</th>\n",
       "      <th>key</th>\n",
       "      <th>time</th>\n",
       "    </tr>\n",
       "  </thead>\n",
       "  <tbody>\n",
       "    <tr>\n",
       "      <th>0</th>\n",
       "      <td>tester</td>\n",
       "      <td>f</td>\n",
       "      <td>0.735</td>\n",
       "    </tr>\n",
       "    <tr>\n",
       "      <th>1</th>\n",
       "      <td>tester</td>\n",
       "      <td>i</td>\n",
       "      <td>0.453</td>\n",
       "    </tr>\n",
       "    <tr>\n",
       "      <th>2</th>\n",
       "      <td>tester</td>\n",
       "      <td>m</td>\n",
       "      <td>0.438</td>\n",
       "    </tr>\n",
       "    <tr>\n",
       "      <th>3</th>\n",
       "      <td>tester</td>\n",
       "      <td>r</td>\n",
       "      <td>0.656</td>\n",
       "    </tr>\n",
       "    <tr>\n",
       "      <th>4</th>\n",
       "      <td>tester</td>\n",
       "      <td>a d</td>\n",
       "      <td>0.110</td>\n",
       "    </tr>\n",
       "    <tr>\n",
       "      <th>...</th>\n",
       "      <td>...</td>\n",
       "      <td>...</td>\n",
       "      <td>...</td>\n",
       "    </tr>\n",
       "    <tr>\n",
       "      <th>35</th>\n",
       "      <td>tester2</td>\n",
       "      <td>t e</td>\n",
       "      <td>1.617</td>\n",
       "    </tr>\n",
       "    <tr>\n",
       "      <th>36</th>\n",
       "      <td>tester2</td>\n",
       "      <td>t i</td>\n",
       "      <td>1.469</td>\n",
       "    </tr>\n",
       "    <tr>\n",
       "      <th>37</th>\n",
       "      <td>tester2</td>\n",
       "      <td>t u</td>\n",
       "      <td>2.453</td>\n",
       "    </tr>\n",
       "    <tr>\n",
       "      <th>38</th>\n",
       "      <td>tester2</td>\n",
       "      <td>u r</td>\n",
       "      <td>1.234</td>\n",
       "    </tr>\n",
       "    <tr>\n",
       "      <th>39</th>\n",
       "      <td>tester2</td>\n",
       "      <td>y</td>\n",
       "      <td>1.125</td>\n",
       "    </tr>\n",
       "  </tbody>\n",
       "</table>\n",
       "<p>80 rows × 3 columns</p>\n",
       "</div>"
      ],
      "text/plain": [
       "    subject  key   time\n",
       "0    tester    f  0.735\n",
       "1    tester    i  0.453\n",
       "2    tester    m  0.438\n",
       "3    tester    r  0.656\n",
       "4    tester  a d  0.110\n",
       "..      ...  ...    ...\n",
       "35  tester2  t e  1.617\n",
       "36  tester2  t i  1.469\n",
       "37  tester2  t u  2.453\n",
       "38  tester2  u r  1.234\n",
       "39  tester2  y    1.125\n",
       "\n",
       "[80 rows x 3 columns]"
      ]
     },
     "execution_count": 5,
     "metadata": {},
     "output_type": "execute_result"
    }
   ],
   "source": [
    "df_avg = pd.DataFrame(columns=['subject','key','time'])\n",
    "for user in df.subject.unique():\n",
    "    temp = df[df.subject == user].groupby(['key']).mean()\n",
    "    temp.insert(0,'subject',[user]*temp.shape[0])\n",
    "    df_avg = df_avg.append(temp.reset_index())\n",
    "df_avg"
   ]
  },
  {
   "cell_type": "code",
   "execution_count": 6,
   "metadata": {},
   "outputs": [
    {
     "data": {
      "text/html": [
       "<div>\n",
       "<style scoped>\n",
       "    .dataframe tbody tr th:only-of-type {\n",
       "        vertical-align: middle;\n",
       "    }\n",
       "\n",
       "    .dataframe tbody tr th {\n",
       "        vertical-align: top;\n",
       "    }\n",
       "\n",
       "    .dataframe thead th {\n",
       "        text-align: right;\n",
       "    }\n",
       "</style>\n",
       "<table border=\"1\" class=\"dataframe\">\n",
       "  <thead>\n",
       "    <tr style=\"text-align: right;\">\n",
       "      <th>key</th>\n",
       "      <th>f</th>\n",
       "      <th>i</th>\n",
       "      <th>m</th>\n",
       "      <th>r</th>\n",
       "      <th>a d</th>\n",
       "      <th>a i</th>\n",
       "      <th>a s</th>\n",
       "      <th>a t</th>\n",
       "      <th>c i</th>\n",
       "      <th>d</th>\n",
       "      <th>...</th>\n",
       "      <th>r a</th>\n",
       "      <th>r e</th>\n",
       "      <th>s c</th>\n",
       "      <th>s h</th>\n",
       "      <th>s t</th>\n",
       "      <th>t e</th>\n",
       "      <th>t i</th>\n",
       "      <th>t u</th>\n",
       "      <th>u r</th>\n",
       "      <th>y</th>\n",
       "    </tr>\n",
       "    <tr>\n",
       "      <th>subject</th>\n",
       "      <th></th>\n",
       "      <th></th>\n",
       "      <th></th>\n",
       "      <th></th>\n",
       "      <th></th>\n",
       "      <th></th>\n",
       "      <th></th>\n",
       "      <th></th>\n",
       "      <th></th>\n",
       "      <th></th>\n",
       "      <th></th>\n",
       "      <th></th>\n",
       "      <th></th>\n",
       "      <th></th>\n",
       "      <th></th>\n",
       "      <th></th>\n",
       "      <th></th>\n",
       "      <th></th>\n",
       "      <th></th>\n",
       "      <th></th>\n",
       "      <th></th>\n",
       "    </tr>\n",
       "  </thead>\n",
       "  <tbody>\n",
       "    <tr>\n",
       "      <th>tester</th>\n",
       "      <td>0.735</td>\n",
       "      <td>0.453</td>\n",
       "      <td>0.4380</td>\n",
       "      <td>0.656</td>\n",
       "      <td>0.110</td>\n",
       "      <td>0.094</td>\n",
       "      <td>0.094</td>\n",
       "      <td>0.2655</td>\n",
       "      <td>0.110</td>\n",
       "      <td>0.391</td>\n",
       "      <td>...</td>\n",
       "      <td>0.094</td>\n",
       "      <td>1.1410</td>\n",
       "      <td>0.64</td>\n",
       "      <td>0.156</td>\n",
       "      <td>1.125</td>\n",
       "      <td>0.117</td>\n",
       "      <td>0.281</td>\n",
       "      <td>0.125</td>\n",
       "      <td>0.094</td>\n",
       "      <td>0.625</td>\n",
       "    </tr>\n",
       "    <tr>\n",
       "      <th>tester2</th>\n",
       "      <td>1.360</td>\n",
       "      <td>1.312</td>\n",
       "      <td>0.9295</td>\n",
       "      <td>1.063</td>\n",
       "      <td>1.375</td>\n",
       "      <td>1.110</td>\n",
       "      <td>1.453</td>\n",
       "      <td>1.2425</td>\n",
       "      <td>1.859</td>\n",
       "      <td>1.672</td>\n",
       "      <td>...</td>\n",
       "      <td>1.109</td>\n",
       "      <td>1.1405</td>\n",
       "      <td>2.25</td>\n",
       "      <td>1.140</td>\n",
       "      <td>1.500</td>\n",
       "      <td>1.617</td>\n",
       "      <td>1.469</td>\n",
       "      <td>2.453</td>\n",
       "      <td>1.234</td>\n",
       "      <td>1.125</td>\n",
       "    </tr>\n",
       "  </tbody>\n",
       "</table>\n",
       "<p>2 rows × 40 columns</p>\n",
       "</div>"
      ],
      "text/plain": [
       "key          f      i       m      r    a d    a i    a s     a t    c i  \\\n",
       "subject                                                                    \n",
       "tester   0.735  0.453  0.4380  0.656  0.110  0.094  0.094  0.2655  0.110   \n",
       "tester2  1.360  1.312  0.9295  1.063  1.375  1.110  1.453  1.2425  1.859   \n",
       "\n",
       "key        d    ...    r a     r e   s c    s h    s t    t e    t i    t u  \\\n",
       "subject         ...                                                           \n",
       "tester   0.391  ...  0.094  1.1410  0.64  0.156  1.125  0.117  0.281  0.125   \n",
       "tester2  1.672  ...  1.109  1.1405  2.25  1.140  1.500  1.617  1.469  2.453   \n",
       "\n",
       "key        u r    y    \n",
       "subject                \n",
       "tester   0.094  0.625  \n",
       "tester2  1.234  1.125  \n",
       "\n",
       "[2 rows x 40 columns]"
      ]
     },
     "execution_count": 6,
     "metadata": {},
     "output_type": "execute_result"
    }
   ],
   "source": [
    "df_pivot = df_avg.pivot(index='subject', columns='key', values = 'time')\n",
    "df_pivot"
   ]
  },
  {
   "cell_type": "markdown",
   "metadata": {},
   "source": [
    "### Train KNeighbors"
   ]
  },
  {
   "cell_type": "code",
   "execution_count": 7,
   "metadata": {},
   "outputs": [
    {
     "data": {
      "text/plain": [
       "KNeighborsClassifier(n_neighbors=1)"
      ]
     },
     "execution_count": 7,
     "metadata": {},
     "output_type": "execute_result"
    }
   ],
   "source": [
    "from sklearn.neighbors import KNeighborsClassifier\n",
    "clf_df = df_pivot\n",
    "clf = KNeighborsClassifier(n_neighbors=1)\n",
    "clf.fit(clf_df[clf_df.columns[1:]].to_numpy(), userList)"
   ]
  },
  {
   "cell_type": "markdown",
   "metadata": {},
   "source": [
    "## Verify user"
   ]
  },
  {
   "cell_type": "code",
   "execution_count": 8,
   "metadata": {},
   "outputs": [
    {
     "name": "stdout",
     "output_type": "stream",
     "text": [
      "Enter your text: \n",
      "type the following word: \n",
      "fascinated interesting madly miniature flesh rain\n"
     ]
    }
   ],
   "source": [
    "#getUserName()\n",
    "global userName\n",
    "userName = 'guest'\n",
    "print(\"Enter your text: \")\n",
    "print(\"type the following word: \")\n",
    "print(\"fascinated interesting madly miniature flesh rain\")\n",
    "user_veri = getKeyStroke(register=False)"
   ]
  },
  {
   "cell_type": "code",
   "execution_count": 9,
   "metadata": {},
   "outputs": [],
   "source": [
    "eventList = pd.DataFrame(user_veri.eventList,columns=['subject','key','keyEvent','Time'])\n",
    "strokeLen = len(eventList)\n",
    "finalData = {}\n",
    "veri_df = pd.DataFrame(columns=['subject','key','time'])\n",
    "for j in range(0,strokeLen-1):\n",
    "        finalData['subject'] = 'guest'\n",
    "        finalData['key'] = chr(eventList.iloc[j].key) + \" \" + chr(eventList.iloc[j+1].key)\n",
    "        finalData['time'] = (int(eventList.iloc[j+1].Time) - int(eventList.iloc[j].Time))/1000\n",
    "        veri_df = veri_df.append(finalData,ignore_index=True )\n",
    "veri_df = veri_df.groupby(['key']).mean().reset_index()\n",
    "veri_df.insert(0,'subject',['guest']*veri_df.shape[0])\n",
    "veri_pivot = veri_df.pivot(index='subject', columns='key', values = 'time')"
   ]
  },
  {
   "cell_type": "code",
   "execution_count": 10,
   "metadata": {},
   "outputs": [
    {
     "data": {
      "text/plain": [
       "array(['tester'], dtype=object)"
      ]
     },
     "execution_count": 10,
     "metadata": {},
     "output_type": "execute_result"
    }
   ],
   "source": [
    "clf.predict(veri_pivot[veri_pivot.columns[1:]].to_numpy())"
   ]
  },
  {
   "cell_type": "code",
   "execution_count": null,
   "metadata": {},
   "outputs": [],
   "source": []
  }
 ],
 "metadata": {
  "kernelspec": {
   "display_name": "Python 3",
   "language": "python",
   "name": "python3"
  },
  "language_info": {
   "codemirror_mode": {
    "name": "ipython",
    "version": 3
   },
   "file_extension": ".py",
   "mimetype": "text/x-python",
   "name": "python",
   "nbconvert_exporter": "python",
   "pygments_lexer": "ipython3",
   "version": "3.7.6"
  }
 },
 "nbformat": 4,
 "nbformat_minor": 4
}
